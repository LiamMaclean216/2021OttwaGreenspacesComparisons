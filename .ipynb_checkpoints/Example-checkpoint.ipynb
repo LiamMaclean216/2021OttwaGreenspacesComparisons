{
 "cells": [
  {
   "cell_type": "code",
   "execution_count": 1,
   "id": "7934e2f7",
   "metadata": {},
   "outputs": [],
   "source": [
    "q_num = 1\n",
    "folder = f\"D:/Comparison_{q_num}/\""
   ]
  },
  {
   "cell_type": "raw",
   "id": "0fd46b26",
   "metadata": {},
   "source": [
    "First we build a dataset using the duels_question_1.csv duels, images from Sample_web_green, saved to D:/Comparison_1. Set split is 60% training, 20% validation, 20% testing. (This may take a while)"
   ]
  },
  {
   "cell_type": "code",
   "execution_count": null,
   "id": "8e985bae",
   "metadata": {},
   "outputs": [],
   "source": [
    "from data import *\n",
    "build_dataset(f\"D:/duels_question_{q_num}.csv\", 224, \"D:/Sample_web_green\", folder, 0.2, 0.2)"
   ]
  },
  {
   "cell_type": "raw",
   "id": "3fa3f768",
   "metadata": {},
   "source": [
    "Load dataset"
   ]
  },
  {
   "cell_type": "code",
   "execution_count": 2,
   "id": "53eefdd3",
   "metadata": {},
   "outputs": [],
   "source": [
    "import tensorflow as tf\n",
    "from Model_comparisons import *\n",
    "dataset_val = tf.data.TFRecordDataset(folder+'data_val.tfrecord')\n",
    "dataset_train = tf.data.TFRecordDataset((folder+'data_train.tfrecord', folder+'data_val.tfrecord'))\n",
    "\n",
    "batch_size = 6"
   ]
  },
  {
   "cell_type": "raw",
   "id": "aaf81b0d",
   "metadata": {},
   "source": [
    "Train a ranking model for 50 epochs"
   ]
  },
  {
   "cell_type": "code",
   "execution_count": 3,
   "id": "d65a0cb7",
   "metadata": {
    "scrolled": true
   },
   "outputs": [],
   "source": [
    "from keras.models import load_model\n",
    "\n",
    "model_path = \"./fitted_model.h5\"\n",
    "load_vgg_weights = True\n",
    "\n",
    "if load_vgg_weights:\n",
    "    comp_model = load_model(model_path)\n",
    "else:\n",
    "    dataset_train = tf.data.TFRecordDataset(folder+'data_train.tfrecord')\n",
    "    \n",
    "    comp_model = comparisons_model(224)\n",
    "    history_comp = comp_model.fit(dataset_train, validation_data = dataset_val, epochs = 50)"
   ]
  },
  {
   "cell_type": "code",
   "execution_count": null,
   "id": "c81d0805",
   "metadata": {},
   "outputs": [],
   "source": [
    "from keras import Model\n",
    "from keras.callbacks import EarlyStopping\n",
    "\n",
    "if load_vgg_weights:\n",
    "    vgg = Model(comp_model.layers[3].input, comp_model.layers[3].output) #Jad model setup slightly differently\n",
    "else:\n",
    "    vgg = Model(comp_model.layers[5].input, comp_model.layers[5].output)\n",
    "\n",
    "vgg.trainable = False\n",
    "\n",
    "# Fine tuning by freezing the last 4 convolutional layers of VGG19 (last block)\n",
    "#vgg.trainable = True\n",
    "#freeze_last_layers = 4\n",
    "#for layer in vgg.layers[:freeze_last_layers]:\n",
    "#    layer.trainable = False\n",
    "\n",
    "callback = EarlyStopping(monitor='val_loss', patience=4, restore_best_weights=True)\n",
    "\n",
    "n_folds = 4\n",
    "dataset_size = 3651\n",
    "\n",
    "rank_models = []\n",
    "histories = []\n",
    "\n",
    "d=list(dataset_train.window(dataset_size // n_folds, stride=1, drop_remainder=True))\n",
    "for i in range(n_folds):\n",
    "    print(f\"fold : {i}\")\n",
    "    val= d[i]\n",
    "    val = val.map(map_fn)\n",
    "    val = val.batch(batch_size)\n",
    "\n",
    "    train_index = d[:i] + d[i+1:]\n",
    "\n",
    "    train = train_index[0]\n",
    "\n",
    "    for t in train_index[1:]:\n",
    "        train = train.concatenate(t)\n",
    "\n",
    "\n",
    "    train = train.map(map_fn)\n",
    "    train = train.batch(batch_size)\n",
    "\n",
    "    rank_model = ranking_model(224, vgg_feature_extractor = vgg, dense_size=1024)\n",
    "    history_rank = rank_model.fit(train, validation_data = val, epochs = 50, callbacks=[callback])    \n",
    "    rank_models.append(rank_model)\n",
    "    histories.append(history_rank)\n"
   ]
  },
  {
   "cell_type": "code",
   "execution_count": null,
   "id": "d6138f67",
   "metadata": {},
   "outputs": [],
   "source": [
    "best_index = np.argmax([max(h.history[\"val_accuracy\"]) for h in histories])\n",
    "print(f\"Fold {best_index} had best val accuracy\")\n",
    "rank_model = rank_models[best_index]\n",
    "history_rank = histories[best_index]"
   ]
  },
  {
   "cell_type": "raw",
   "id": "c535622d",
   "metadata": {},
   "source": [
    "plot losses and accuracy"
   ]
  },
  {
   "cell_type": "code",
   "execution_count": 7,
   "id": "af72fb03",
   "metadata": {},
   "outputs": [],
   "source": [
    "import matplotlib.pyplot as plt\n",
    "\n",
    "if not load_vgg_weights:\n",
    "    plt.plot(history_comp.history['val_accuracy'], label=\"val_accuracy\")\n",
    "    plt.plot(history_comp.history['accuracy'], label=\"accuracy\")\n",
    "    plt.legend()\n",
    "    plt.savefig(folder + \"comp_model_acc.png\")"
   ]
  },
  {
   "cell_type": "code",
   "execution_count": 8,
   "id": "36ad3b3a",
   "metadata": {},
   "outputs": [],
   "source": [
    "if not load_vgg_weights:\n",
    "    plt.plot(history_comp.history['val_loss'], label=\"val_loss\")\n",
    "    plt.plot(history_comp.history['loss'], label=\"loss\")\n",
    "    plt.legend()\n",
    "    plt.savefig(folder + \"comp_model_loss.png\")"
   ]
  },
  {
   "cell_type": "raw",
   "id": "f7993e1e",
   "metadata": {},
   "source": [
    "plt.plot(history_rank.history['val_accuracy'], label=\"val_accuracy\")\n",
    "plt.plot(history_rank.history['accuracy'], label=\"accuracy\")\n",
    "plt.legend()\n",
    "plt.savefig(folder + \"rank_model_acc.png\")"
   ]
  },
  {
   "cell_type": "code",
   "execution_count": null,
   "id": "ae71e62a",
   "metadata": {},
   "outputs": [],
   "source": [
    "plt.plot(history_rank.history['val_loss'], label=\"val_loss\")\n",
    "plt.plot(history_rank.history['loss'], label=\"loss\")\n",
    "plt.legend()\n",
    "plt.savefig(folder + \"rank_model_loss.png\")"
   ]
  },
  {
   "cell_type": "raw",
   "id": "83aa68f0",
   "metadata": {},
   "source": [
    "Save model in case it needs to be reused later"
   ]
  },
  {
   "cell_type": "code",
   "execution_count": 18,
   "id": "99872639",
   "metadata": {},
   "outputs": [],
   "source": [
    "rank_model.save(folder+\"ranking_model.h5\")"
   ]
  },
  {
   "cell_type": "raw",
   "id": "f4839d82",
   "metadata": {},
   "source": [
    "Run model on test set"
   ]
  },
  {
   "cell_type": "code",
   "execution_count": null,
   "id": "2a999531",
   "metadata": {},
   "outputs": [],
   "source": [
    "dataset_test = tf.data.TFRecordDataset(folder+'data_test.tfrecord')\n",
    "\n",
    "batch_size = 6\n",
    "\n",
    "dataset_test = dataset_test.map(map_fn)\n",
    "dataset_test = dataset_test.prefetch(buffer_size=tf.data.AUTOTUNE)\n",
    "dataset_test = dataset_test.batch(batch_size)\n",
    "\n",
    "rank_model.evaluate(dataset_test)"
   ]
  },
  {
   "cell_type": "raw",
   "id": "0893e208",
   "metadata": {},
   "source": [
    "Create Mapillary instance with api access key, and coordinates bounding Ottawa regiong."
   ]
  },
  {
   "cell_type": "code",
   "execution_count": null,
   "id": "3564d625",
   "metadata": {},
   "outputs": [],
   "source": [
    "from Mapillary import *\n",
    "api = Mapillary('MLY|4459801330748375|f17ddc8a7adbcbff6eea96b1cf4c2aad',\n",
    "                [-75.7839321, 45.3210331], [-75.6517092, 45.4448763]) #Smaller Box around Ottawa\n",
    "              #  [-75.9216253, 45.2157973], [-75.4695785, 45.4958371]) #Big Box around Ottawa"
   ]
  },
  {
   "cell_type": "code",
   "execution_count": null,
   "id": "efc29094",
   "metadata": {},
   "outputs": [],
   "source": [
    "await api.generate_csv(rank_model, folder+\"rankings.csv\")"
   ]
  },
  {
   "cell_type": "code",
   "execution_count": null,
   "id": "8073d8a5",
   "metadata": {},
   "outputs": [],
   "source": []
  }
 ],
 "metadata": {
  "kernelspec": {
   "display_name": "Python 3",
   "language": "python",
   "name": "python3"
  },
  "language_info": {
   "codemirror_mode": {
    "name": "ipython",
    "version": 3
   },
   "file_extension": ".py",
   "mimetype": "text/x-python",
   "name": "python",
   "nbconvert_exporter": "python",
   "pygments_lexer": "ipython3",
   "version": "3.8.0"
  }
 },
 "nbformat": 4,
 "nbformat_minor": 5
}
