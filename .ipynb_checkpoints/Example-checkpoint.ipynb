{
 "cells": [
  {
   "cell_type": "raw",
   "id": "f31a32f3",
   "metadata": {},
   "source": [
    "First we build a dataset using the duels_question_1.csv duels, images from Sample_web_green, saved to D:/Comparison_1. Set split is 60% training, 20% validation, 20% testing. (This may take a while)"
   ]
  },
  {
   "cell_type": "code",
   "execution_count": 1,
   "id": "c6e9e7f4",
   "metadata": {},
   "outputs": [
    {
     "name": "stdout",
     "output_type": "stream",
     "text": [
      "Saving as .npy\n",
      "D:/duels_question_1.csv\n",
      "Creating inputs from csv ...\n",
      "Done\n",
      "Saving test set ...\n",
      "Done\n",
      "Saving train set ...\n",
      "Done\n",
      "Converting to .tfrecords\n",
      "Done\n"
     ]
    }
   ],
   "source": [
    "from data import *\n",
    "build_dataset(\"D:/duels_question_1.csv\", 224, \"D:/Sample_web_green\", \"D:/Comparison_1_test\", 0.2, 0.2)"
   ]
  },
  {
   "cell_type": "raw",
   "id": "3fa3f768",
   "metadata": {},
   "source": [
    "Load dataset"
   ]
  },
  {
   "cell_type": "code",
   "execution_count": 1,
   "id": "53eefdd3",
   "metadata": {},
   "outputs": [],
   "source": [
    "import tensorflow as tf\n",
    "from Model_comparisons import *\n",
    "dataset_val = tf.data.TFRecordDataset('D:/Comparison_1/data_val.tfrecord')\n",
    "dataset_train = tf.data.TFRecordDataset('D:/Comparison_1/data_train.tfrecord')\n",
    "\n",
    "batch_size = 6\n",
    "\n",
    "dataset_train = dataset_train.map(map_fn)\n",
    "dataset_train = dataset_train.shuffle(2048, reshuffle_each_iteration = True)\n",
    "dataset_train = dataset_train.prefetch(buffer_size=tf.data.AUTOTUNE)\n",
    "dataset_train = dataset_train.batch(batch_size)\n",
    "\n",
    "dataset_val = dataset_val.map(map_fn)\n",
    "dataset_val = dataset_val.prefetch(buffer_size=tf.data.AUTOTUNE)\n",
    "dataset_val = dataset_val.batch(batch_size)"
   ]
  },
  {
   "cell_type": "raw",
   "id": "aaf81b0d",
   "metadata": {},
   "source": [
    "Train a ranking model for 50 epochs"
   ]
  },
  {
   "cell_type": "code",
   "execution_count": 2,
   "id": "d65a0cb7",
   "metadata": {},
   "outputs": [],
   "source": [
    "conv_model = ranking_model(224)\n",
    "\n",
    "#history = conv_model.fit(dataset_train, validation_data = dataset_val, epochs = 1)"
   ]
  },
  {
   "cell_type": "raw",
   "id": "c535622d",
   "metadata": {},
   "source": [
    "plot losses and accuracy"
   ]
  },
  {
   "cell_type": "code",
   "execution_count": 7,
   "id": "bf62d1df",
   "metadata": {},
   "outputs": [
    {
     "data": {
      "text/plain": [
       "[<matplotlib.lines.Line2D at 0x213a4941a30>]"
      ]
     },
     "execution_count": 7,
     "metadata": {},
     "output_type": "execute_result"
    },
    {
     "data": {
      "image/png": "[encoded data removed]",
      "text/plain": [
       "<Figure size 432x288 with 1 Axes>"
      ]
     },
     "metadata": {
      "needs_background": "light"
     },
     "output_type": "display_data"
    }
   ],
   "source": [
    "import matplotlib.pyplot as plt\n",
    "plt.plot(history.history['val_accuracy'])\n",
    "plt.plot(history.history['accuracy'])"
   ]
  },
  {
   "cell_type": "code",
   "execution_count": 8,
   "id": "482daf9a",
   "metadata": {},
   "outputs": [
    {
     "data": {
      "text/plain": [
       "[<matplotlib.lines.Line2D at 0x213a4a3b970>]"
      ]
     },
     "execution_count": 8,
     "metadata": {},
     "output_type": "execute_result"
    },
    {
     "data": {
      "image/png": "[encoded data removed]",
      "text/plain": [
       "<Figure size 432x288 with 1 Axes>"
      ]
     },
     "metadata": {
      "needs_background": "light"
     },
     "output_type": "display_data"
    }
   ],
   "source": [
    "plt.plot(history.history['val_loss'])\n",
    "plt.plot(history.history['loss'])"
   ]
  },
  {
   "cell_type": "raw",
   "id": "83aa68f0",
   "metadata": {},
   "source": [
    "Save model in case it needs to be reused later"
   ]
  },
  {
   "cell_type": "code",
   "execution_count": null,
   "id": "f2946a52",
   "metadata": {},
   "outputs": [],
   "source": [
    "#conv_model.save(\"D:/ranking_model.h5\")"
   ]
  },
  {
   "cell_type": "raw",
   "id": "afdaf99c",
   "metadata": {},
   "source": [
    "Create Mapillary instance with api access key, and coordinates bounding Ottawa regiong."
   ]
  },
  {
   "cell_type": "code",
   "execution_count": 3,
   "id": "0a0e07d1",
   "metadata": {},
   "outputs": [],
   "source": [
    "from Mapillary import *\n",
    "api = Mapillary('MLY|4459801330748375|f17ddc8a7adbcbff6eea96b1cf4c2aad',\n",
    "                [-75.9216253, 45.2157973], [-75.4695785, 45.4958371])"
   ]
  },
  {
   "cell_type": "code",
   "execution_count": 4,
   "id": "709cc3cf",
   "metadata": {},
   "outputs": [
    {
     "ename": "NameError",
     "evalue": "name 'api' is not defined",
     "output_type": "error",
     "traceback": [
      "\u001b[1;31m---------------------------------------------------------------------------\u001b[0m",
      "\u001b[1;31mNameError\u001b[0m                                 Traceback (most recent call last)",
      "\u001b[1;32m<ipython-input-4-a610d74f45a5>\u001b[0m in \u001b[0;36m<module>\u001b[1;34m\u001b[0m\n\u001b[0;32m      1\u001b[0m \u001b[1;32mimport\u001b[0m \u001b[0masyncio\u001b[0m\u001b[1;33m\u001b[0m\u001b[1;33m\u001b[0m\u001b[0m\n\u001b[1;32m----> 2\u001b[1;33m \u001b[1;32mawait\u001b[0m \u001b[0mapi\u001b[0m\u001b[1;33m.\u001b[0m\u001b[0mgenerate_csv\u001b[0m\u001b[1;33m(\u001b[0m\u001b[0mconv_model\u001b[0m\u001b[1;33m,\u001b[0m \u001b[1;34m\"D:/test.csv\"\u001b[0m\u001b[1;33m)\u001b[0m\u001b[1;33m\u001b[0m\u001b[1;33m\u001b[0m\u001b[0m\n\u001b[0m",
      "\u001b[1;32m~\\Google Drive\\GitHub\\2021OttwaGreenspacesComparisons\\Mapillary.py\u001b[0m in \u001b[0;36mgenerate_csv\u001b[1;34m(self, model, save_path)\u001b[0m\n\u001b[0;32m    126\u001b[0m         \u001b[0mgen\u001b[0m \u001b[1;33m=\u001b[0m \u001b[0mself\u001b[0m\u001b[1;33m.\u001b[0m\u001b[0mbatched_image_generator\u001b[0m\u001b[1;33m(\u001b[0m\u001b[1;33m)\u001b[0m\u001b[1;33m\u001b[0m\u001b[1;33m\u001b[0m\u001b[0m\n\u001b[0;32m    127\u001b[0m \u001b[1;33m\u001b[0m\u001b[0m\n\u001b[1;32m--> 128\u001b[1;33m         \u001b[0murl_path\u001b[0m\u001b[1;33m,\u001b[0m \u001b[0mcoords\u001b[0m \u001b[1;33m=\u001b[0m \u001b[0mnext\u001b[0m\u001b[1;33m(\u001b[0m\u001b[0mgen\u001b[0m\u001b[1;33m)\u001b[0m\u001b[1;33m\u001b[0m\u001b[1;33m\u001b[0m\u001b[0m\n\u001b[0m\u001b[0;32m    129\u001b[0m         \u001b[0mimg_async\u001b[0m \u001b[1;33m=\u001b[0m \u001b[0masyncio\u001b[0m\u001b[1;33m.\u001b[0m\u001b[0mcreate_task\u001b[0m\u001b[1;33m(\u001b[0m\u001b[0mget_image_at_url\u001b[0m\u001b[1;33m(\u001b[0m\u001b[0murl_path\u001b[0m\u001b[1;33m,\u001b[0m \u001b[0mcoords\u001b[0m\u001b[1;33m)\u001b[0m\u001b[1;33m)\u001b[0m\u001b[1;33m\u001b[0m\u001b[1;33m\u001b[0m\u001b[0m\n\u001b[0;32m    130\u001b[0m \u001b[1;33m\u001b[0m\u001b[0m\n",
      "\u001b[1;32m~\\Google Drive\\GitHub\\2021OttwaGreenspacesComparisons\\Mapillary.py\u001b[0m in \u001b[0;36mbatched_image_generator\u001b[1;34m(self)\u001b[0m\n\u001b[0;32m    114\u001b[0m         \u001b[0mimage_batch\u001b[0m \u001b[1;33m=\u001b[0m \u001b[1;33m[\u001b[0m\u001b[1;33m]\u001b[0m\u001b[1;33m\u001b[0m\u001b[1;33m\u001b[0m\u001b[0m\n\u001b[0;32m    115\u001b[0m         \u001b[0mcoords_batch\u001b[0m \u001b[1;33m=\u001b[0m \u001b[1;33m[\u001b[0m\u001b[1;33m]\u001b[0m\u001b[1;33m\u001b[0m\u001b[1;33m\u001b[0m\u001b[0m\n\u001b[1;32m--> 116\u001b[1;33m         \u001b[1;32mfor\u001b[0m \u001b[0mi\u001b[0m\u001b[1;33m,\u001b[0m \u001b[1;33m(\u001b[0m\u001b[0murl_path\u001b[0m\u001b[1;33m,\u001b[0m \u001b[0mcoords\u001b[0m\u001b[1;33m)\u001b[0m \u001b[1;32min\u001b[0m \u001b[0menumerate\u001b[0m\u001b[1;33m(\u001b[0m\u001b[0mgen\u001b[0m\u001b[1;33m)\u001b[0m\u001b[1;33m:\u001b[0m\u001b[1;33m\u001b[0m\u001b[1;33m\u001b[0m\u001b[0m\n\u001b[0m\u001b[0;32m    117\u001b[0m             \u001b[0mimage_batch\u001b[0m\u001b[1;33m.\u001b[0m\u001b[0mappend\u001b[0m\u001b[1;33m(\u001b[0m\u001b[0murl_path\u001b[0m\u001b[1;33m)\u001b[0m\u001b[1;33m\u001b[0m\u001b[1;33m\u001b[0m\u001b[0m\n\u001b[0;32m    118\u001b[0m             \u001b[0mcoords_batch\u001b[0m\u001b[1;33m.\u001b[0m\u001b[0mappend\u001b[0m\u001b[1;33m(\u001b[0m\u001b[0mcoords\u001b[0m\u001b[1;33m)\u001b[0m\u001b[1;33m\u001b[0m\u001b[1;33m\u001b[0m\u001b[0m\n",
      "\u001b[1;32m~\\Google Drive\\GitHub\\2021OttwaGreenspacesComparisons\\Mapillary.py\u001b[0m in \u001b[0;36mimage_url_generator\u001b[1;34m(self)\u001b[0m\n\u001b[0;32m    100\u001b[0m                     \u001b[1;32mfor\u001b[0m \u001b[0md\u001b[0m \u001b[1;32min\u001b[0m \u001b[0mfiltered_data\u001b[0m\u001b[1;33m:\u001b[0m\u001b[1;33m\u001b[0m\u001b[1;33m\u001b[0m\u001b[0m\n\u001b[0;32m    101\u001b[0m \u001b[1;33m\u001b[0m\u001b[0m\n\u001b[1;32m--> 102\u001b[1;33m                         \u001b[0mimage_endpoint_url\u001b[0m \u001b[1;33m=\u001b[0m \u001b[1;34mf'https://graph.mapillary.com/{d[\"properties\"][\"id\"]}?fields={fields}&access_token={api.access_token}'\u001b[0m\u001b[1;33m\u001b[0m\u001b[1;33m\u001b[0m\u001b[0m\n\u001b[0m\u001b[0;32m    103\u001b[0m                         \u001b[0mimage_response\u001b[0m \u001b[1;33m=\u001b[0m \u001b[0mrequests\u001b[0m\u001b[1;33m.\u001b[0m\u001b[0mget\u001b[0m\u001b[1;33m(\u001b[0m\u001b[0mimage_endpoint_url\u001b[0m\u001b[1;33m,\u001b[0m \u001b[0mheaders\u001b[0m\u001b[1;33m=\u001b[0m\u001b[0mself\u001b[0m\u001b[1;33m.\u001b[0m\u001b[0mheaders\u001b[0m\u001b[1;33m)\u001b[0m\u001b[1;33m.\u001b[0m\u001b[0mjson\u001b[0m\u001b[1;33m(\u001b[0m\u001b[1;33m)\u001b[0m\u001b[1;33m\u001b[0m\u001b[1;33m\u001b[0m\u001b[0m\n\u001b[0;32m    104\u001b[0m                         \u001b[1;31m#print(image_response)\u001b[0m\u001b[1;33m\u001b[0m\u001b[1;33m\u001b[0m\u001b[1;33m\u001b[0m\u001b[0m\n",
      "\u001b[1;31mNameError\u001b[0m: name 'api' is not defined"
     ]
    }
   ],
   "source": [
    "import asyncio\n",
    "await api.generate_csv(conv_model, \"D:/test.csv\")"
   ]
  },
  {
   "cell_type": "code",
   "execution_count": null,
   "id": "90abd07b",
   "metadata": {},
   "outputs": [],
   "source": []
  }
 ],
 "metadata": {
  "kernelspec": {
   "display_name": "Python 3",
   "language": "python",
   "name": "python3"
  },
  "language_info": {
   "codemirror_mode": {
    "name": "ipython",
    "version": 3
   },
   "file_extension": ".py",
   "mimetype": "text/x-python",
   "name": "python",
   "nbconvert_exporter": "python",
   "pygments_lexer": "ipython3",
   "version": "3.8.0"
  }
 },
 "nbformat": 4,
 "nbformat_minor": 5
}
