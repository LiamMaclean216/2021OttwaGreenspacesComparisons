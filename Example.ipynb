{
 "cells": [
  {
   "cell_type": "raw",
   "id": "f31a32f3",
   "metadata": {},
   "source": [
    "First we build a dataset using the duels_question_1.csv duels, images from Sample_web_green, saved to D:/Comparison_1. Set split is 60% training, 20% validation, 20% testing. (This may take a while)"
   ]
  },
  {
   "cell_type": "code",
   "execution_count": 1,
   "id": "c6e9e7f4",
   "metadata": {},
   "outputs": [
    {
     "name": "stdout",
     "output_type": "stream",
     "text": [
      "Saving as .npy\n",
      "D:/duels_question_1.csv\n",
      "Creating inputs from csv ...\n",
      "Done\n",
      "Saving test set ...\n",
      "Done\n",
      "Saving train set ...\n",
      "Done\n",
      "Converting to .tfrecords\n",
      "Done\n"
     ]
    }
   ],
   "source": [
    "from data import *\n",
    "build_dataset(\"D:/duels_question_1.csv\", 224, \"D:/Sample_web_green\", \"D:/Comparison_1_test\", 0.2, 0.2)"
   ]
  },
  {
   "cell_type": "raw",
   "id": "3fa3f768",
   "metadata": {},
   "source": [
    "Load dataset"
   ]
  },
  {
   "cell_type": "code",
   "execution_count": 1,
   "id": "53eefdd3",
   "metadata": {},
   "outputs": [],
   "source": [
    "import tensorflow as tf\n",
    "from Model_comparisons import *\n",
    "dataset_val = tf.data.TFRecordDataset('D:/Comparison_1/data_val.tfrecord')\n",
    "dataset_train = tf.data.TFRecordDataset('D:/Comparison_1/data_train.tfrecord')\n",
    "\n",
    "batch_size = 6\n",
    "\n",
    "dataset_train = dataset_train.map(map_fn)\n",
    "dataset_train = dataset_train.shuffle(2048, reshuffle_each_iteration = True)\n",
    "dataset_train = dataset_train.prefetch(buffer_size=tf.data.AUTOTUNE)\n",
    "dataset_train = dataset_train.batch(batch_size)\n",
    "\n",
    "dataset_val = dataset_val.map(map_fn)\n",
    "dataset_val = dataset_val.prefetch(buffer_size=tf.data.AUTOTUNE)\n",
    "dataset_val = dataset_val.batch(batch_size)"
   ]
  },
  {
   "cell_type": "raw",
   "id": "aaf81b0d",
   "metadata": {},
   "source": [
    "Train a ranking model for 50 epochs"
   ]
  },
  {
   "cell_type": "code",
   "execution_count": 2,
   "id": "d65a0cb7",
   "metadata": {},
   "outputs": [
    {
     "name": "stdout",
     "output_type": "stream",
     "text": [
      "Epoch 1/5\n"
     ]
    },
    {
     "name": "stderr",
     "output_type": "stream",
     "text": [
      "c:\\users\\lmacl\\appdata\\local\\programs\\python\\python38\\lib\\site-packages\\tensorflow\\python\\keras\\engine\\functional.py:588: UserWarning: Input dict contained keys ['data_label'] which did not match any model input. They will be ignored by the model.\n",
      "  warnings.warn(\n"
     ]
    },
    {
     "name": "stdout",
     "output_type": "stream",
     "text": [
      "487/487 [==============================] - 168s 332ms/step - loss: 1.0383 - accuracy: 0.6257 - val_loss: 1.2281 - val_accuracy: 0.6689\n",
      "Epoch 2/5\n",
      "487/487 [==============================] - 159s 324ms/step - loss: 0.9420 - accuracy: 0.6455 - val_loss: 1.8021 - val_accuracy: 0.7264\n",
      "Epoch 3/5\n",
      "487/487 [==============================] - 159s 324ms/step - loss: 0.8086 - accuracy: 0.6781 - val_loss: 0.7184 - val_accuracy: 0.7620\n",
      "Epoch 4/5\n",
      "487/487 [==============================] - 158s 323ms/step - loss: 0.8248 - accuracy: 0.6712 - val_loss: 0.8409 - val_accuracy: 0.7770\n",
      "Epoch 5/5\n",
      "487/487 [==============================] - 158s 323ms/step - loss: 0.7757 - accuracy: 0.6812 - val_loss: 0.6851 - val_accuracy: 0.6826\n"
     ]
    }
   ],
   "source": [
    "conv_model = ranking_model(224)\n",
    "#conv_model = load_model(\"D:/acc_checkpoint\") #Or load in from a checkpoint\n",
    "\n",
    "history = conv_model.fit(dataset_train, validation_data = dataset_val, epochs = 5)"
   ]
  },
  {
   "cell_type": "raw",
   "id": "c535622d",
   "metadata": {},
   "source": [
    "plot losses and accuracy"
   ]
  },
  {
   "cell_type": "code",
   "execution_count": 3,
   "id": "bf62d1df",
   "metadata": {},
   "outputs": [
    {
     "data": {
      "text/plain": [
       "[<matplotlib.lines.Line2D at 0x1e024701850>]"
      ]
     },
     "execution_count": 3,
     "metadata": {},
     "output_type": "execute_result"
    },
    {
     "data": {
      "image/png": "[encoded data removed]",
      "text/plain": [
       "<Figure size 432x288 with 1 Axes>"
      ]
     },
     "metadata": {
      "needs_background": "light"
     },
     "output_type": "display_data"
    }
   ],
   "source": [
    "import matplotlib.pyplot as plt\n",
    "plt.plot(history.history['val_accuracy'])\n",
    "plt.plot(history.history['accuracy'])"
   ]
  },
  {
   "cell_type": "code",
   "execution_count": 4,
   "id": "482daf9a",
   "metadata": {},
   "outputs": [
    {
     "data": {
      "text/plain": [
       "[<matplotlib.lines.Line2D at 0x1e024807f10>]"
      ]
     },
     "execution_count": 4,
     "metadata": {},
     "output_type": "execute_result"
    },
    {
     "data": {
      "image/png": "[encoded data removed]",
      "text/plain": [
       "<Figure size 432x288 with 1 Axes>"
      ]
     },
     "metadata": {
      "needs_background": "light"
     },
     "output_type": "display_data"
    }
   ],
   "source": [
    "plt.plot(history.history['val_loss'])\n",
    "plt.plot(history.history['loss'])"
   ]
  },
  {
   "cell_type": "raw",
   "id": "83aa68f0",
   "metadata": {},
   "source": [
    "Save model in case it needs to be reused later"
   ]
  },
  {
   "cell_type": "code",
   "execution_count": 5,
   "id": "f2946a52",
   "metadata": {},
   "outputs": [],
   "source": [
    "conv_model.save(\"D:/ranking_model.h5\")"
   ]
  },
  {
   "cell_type": "raw",
   "id": "0893e208",
   "metadata": {},
   "source": [
    "Create Mapillary instance with api access key, and coordinates bounding Ottawa regiong."
   ]
  },
  {
   "cell_type": "code",
   "execution_count": 6,
   "id": "c5b0d148",
   "metadata": {},
   "outputs": [],
   "source": [
    "from Mapillary import *\n",
    "api = Mapillary('MLY|4459801330748375|f17ddc8a7adbcbff6eea96b1cf4c2aad',\n",
    "                [-75.9216253, 45.2157973], [-75.4695785, 45.4958371])"
   ]
  },
  {
   "cell_type": "code",
   "execution_count": null,
   "id": "9f4b1e50",
   "metadata": {},
   "outputs": [
    {
     "name": "stdout",
     "output_type": "stream",
     "text": [
      " Processing image 12976 | -75.85314720783 45.4778930468482"
     ]
    }
   ],
   "source": [
    "await api.generate_csv(conv_model, \"D:/test.csv\")"
   ]
  },
  {
   "cell_type": "code",
   "execution_count": null,
   "id": "658e40e1",
   "metadata": {},
   "outputs": [],
   "source": []
  }
 ],
 "metadata": {
  "kernelspec": {
   "display_name": "Python 3",
   "language": "python",
   "name": "python3"
  },
  "language_info": {
   "codemirror_mode": {
    "name": "ipython",
    "version": 3
   },
   "file_extension": ".py",
   "mimetype": "text/x-python",
   "name": "python",
   "nbconvert_exporter": "python",
   "pygments_lexer": "ipython3",
   "version": "3.8.0"
  }
 },
 "nbformat": 4,
 "nbformat_minor": 5
}
